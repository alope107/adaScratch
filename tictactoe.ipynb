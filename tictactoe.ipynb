{
 "cells": [
  {
   "cell_type": "code",
   "execution_count": 24,
   "metadata": {},
   "outputs": [],
   "source": [
    "def tic_tac_toe_winner(board):\n",
    "    '''\n",
    "    INPUT: Tic Tac Toe board (3x3 matrix)\n",
    "    OUTPUT: Winner\n",
    "    '''\n",
    "    n = len(board)\n",
    "    lines = []\n",
    "    # lines.extend([tuple((i, j) for j in range(n)) for i in range(n)])\n",
    "    # lines.extend([tuple((j, i) for j in range(n)) for i in range(n)])\n",
    "    # lines.extend([tuple((i, i) for i in range(n)), tuple((i, n-i-1) for i in range(n))])\n",
    "\n",
    "    # Rows\n",
    "    for i in range(n):\n",
    "        row = []\n",
    "        for j in range(n):\n",
    "            row.append((i, j))\n",
    "        lines.append(row)\n",
    "\n",
    "    # Cols\n",
    "    for j in range(n):\n",
    "        col = []\n",
    "        for i in range(n):\n",
    "            col.append((i, j))\n",
    "        lines.append(col)\n",
    "\n",
    "    # diag\n",
    "    diag1 = []\n",
    "    diag2 = []\n",
    "    for i in range(n):\n",
    "        diag1.append((i, i))\n",
    "        diag2.append((i, n-i-1))\n",
    "\n",
    "    lines.append(diag1)\n",
    "    lines.append(diag2)\n",
    "    \n",
    "    for line in lines:\n",
    "        prev = None\n",
    "        win = True\n",
    "        for r, c in line:\n",
    "            val = board[r][c]\n",
    "            if val == '':\n",
    "                finished = False\n",
    "                win = False\n",
    "            if not prev or val == prev:\n",
    "                prev = val\n",
    "            else:\n",
    "                win = False\n",
    "                \n",
    "        if win:\n",
    "            return prev\n",
    "    \n",
    "    return 'Tie' if finished else None"
   ]
  },
  {
   "cell_type": "code",
   "execution_count": 25,
   "metadata": {},
   "outputs": [
    {
     "data": {
      "text/plain": [
       "'O'"
      ]
     },
     "execution_count": 25,
     "metadata": {},
     "output_type": "execute_result"
    }
   ],
   "source": [
    "tic_tac_toe_winner(\n",
    "    [\n",
    "          ['X', 'O', 'X'],\n",
    "          ['O', 'O', 'O'],\n",
    "          ['X', 'X', 'O']\n",
    "      ]\n",
    ")"
   ]
  },
  {
   "cell_type": "code",
   "execution_count": null,
   "metadata": {},
   "outputs": [],
   "source": []
  }
 ],
 "metadata": {
  "interpreter": {
   "hash": "33f9929d5dd8dbd5b952cd6d1bafd9dce31285c3e95446986b68ed0cd94d3b89"
  },
  "kernelspec": {
   "display_name": "Python 3.9.7 64-bit",
   "language": "python",
   "name": "python3"
  },
  "language_info": {
   "codemirror_mode": {
    "name": "ipython",
    "version": 3
   },
   "file_extension": ".py",
   "mimetype": "text/x-python",
   "name": "python",
   "nbconvert_exporter": "python",
   "pygments_lexer": "ipython3",
   "version": "3.9.9"
  },
  "orig_nbformat": 4
 },
 "nbformat": 4,
 "nbformat_minor": 2
}
