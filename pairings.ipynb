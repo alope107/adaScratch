{
 "cells": [
  {
   "cell_type": "code",
   "execution_count": 7,
   "metadata": {},
   "outputs": [],
   "source": [
    "from collections import defaultdict\n",
    "from random import shuffle\n",
    "from statistics import mean\n",
    "\n",
    "def count_until_matched(n):\n",
    "    matches = defaultdict(set)\n",
    "    people = list(range(n))\n",
    "    iters = 0\n",
    "    duped = False\n",
    "    while not duped:\n",
    "        iters += 1\n",
    "        shuffle(people)\n",
    "        for i in range(0, n, 2):\n",
    "            current, partner = people[i], people[i+1]\n",
    "            if current in matches[partner]:\n",
    "                duped = True\n",
    "                break\n",
    "            matches[current].add(partner)\n",
    "            matches[partner].add(current)\n",
    "    return iters"
   ]
  },
  {
   "cell_type": "code",
   "execution_count": 10,
   "metadata": {},
   "outputs": [
    {
     "ename": "NameError",
     "evalue": "name 'avg' is not defined",
     "output_type": "error",
     "traceback": [
      "\u001b[0;31m---------------------------------------------------------------------------\u001b[0m",
      "\u001b[0;31mNameError\u001b[0m                                 Traceback (most recent call last)",
      "\u001b[1;32m/Users/auberonlopez/programming/ada/scratch/pairings.ipynb Cell 2\u001b[0m in \u001b[0;36m<cell line: 1>\u001b[0;34m()\u001b[0m\n\u001b[0;32m----> <a href='vscode-notebook-cell:/Users/auberonlopez/programming/ada/scratch/pairings.ipynb#W1sZmlsZQ%3D%3D?line=0'>1</a>\u001b[0m avg(count_until_matched(\u001b[39m30\u001b[39m) \u001b[39mfor\u001b[39;00m _ \u001b[39min\u001b[39;00m \u001b[39mrange\u001b[39m(\u001b[39m10000\u001b[39m))\n",
      "\u001b[0;31mNameError\u001b[0m: name 'avg' is not defined"
     ]
    }
   ],
   "source": [
    "avg(count_until_matched(30) for _ in range(10000))"
   ]
  },
  {
   "cell_type": "code",
   "execution_count": null,
   "metadata": {},
   "outputs": [],
   "source": []
  }
 ],
 "metadata": {
  "kernelspec": {
   "display_name": "venv",
   "language": "python",
   "name": "python3"
  },
  "language_info": {
   "codemirror_mode": {
    "name": "ipython",
    "version": 3
   },
   "file_extension": ".py",
   "mimetype": "text/x-python",
   "name": "python",
   "nbconvert_exporter": "python",
   "pygments_lexer": "ipython3",
   "version": "3.9.16"
  },
  "orig_nbformat": 4,
  "vscode": {
   "interpreter": {
    "hash": "48da93beaf41e3312cae9ad49489ea497fb5337631984aa89da89c811f595584"
   }
  }
 },
 "nbformat": 4,
 "nbformat_minor": 2
}
