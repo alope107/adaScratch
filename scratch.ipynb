{
 "cells": [
  {
   "cell_type": "code",
   "execution_count": 7,
   "metadata": {},
   "outputs": [],
   "source": [
    "def kth_missing_positive_number(numbers, k):\n",
    "    '''\n",
    "    INPUT: List of numbers in increating order & a positive integer k\n",
    "    OUTPUT: The kth missing number\n",
    "    '''\n",
    "    \n",
    "    '''\n",
    "    missing = []\n",
    "    for loop from [1 to 2001):\n",
    "       if i not in arr:\n",
    "         add i to missing\n",
    "       if len of missing == k:\n",
    "          break\n",
    "    return missing[-1]\n",
    "    '''\n",
    "    # space: O(1) time O(n^2 + nk)\n",
    "    # n = len(numbers)\n",
    "    # O(n)\n",
    "    #numbers = set(numbers) # O(n) in space\n",
    "    for i in range(1, len(numbers)+k+1): # O(n)\n",
    "        if i not in numbers: \n",
    "            k -= 1\n",
    "        if k == 0:\n",
    "            return i"
   ]
  },
  {
   "cell_type": "code",
   "execution_count": 9,
   "metadata": {},
   "outputs": [
    {
     "data": {
      "text/plain": [
       "9"
      ]
     },
     "execution_count": 9,
     "metadata": {},
     "output_type": "execute_result"
    }
   ],
   "source": [
    "kth_missing_positive_number([2,3,4,7,11], 5)"
   ]
  },
  {
   "cell_type": "code",
   "execution_count": 11,
   "metadata": {},
   "outputs": [],
   "source": [
    "\"\"\"\n",
    "[a, b, c, d]\n",
    "(a, b)\n",
    "(a, c)\n",
    "(b, c)\n",
    "\n",
    "T & S : O(n^2) n = length of input list\n",
    "\n",
    "n + n-1 + n-2 + n-3 ... ~ O(n^2)\n",
    "\"\"\"\n",
    "\n",
    "\n",
    "\n",
    "def pair_up(students):\n",
    "    pairs = set()\n",
    "    for i in range(len(students)):\n",
    "        for j in range(i+1, len(students)):\n",
    "            pairs.add((students[i], students[j]))\n",
    "\n",
    "    return pairs\n",
    "\n",
    "pair_up(list(range(10)))"
   ]
  },
  {
   "cell_type": "code",
   "execution_count": 14,
   "metadata": {},
   "outputs": [
    {
     "data": {
      "text/plain": [
       "{(0, 1),\n",
       " (0, 2),\n",
       " (0, 3),\n",
       " (0, 4),\n",
       " (0, 5),\n",
       " (0, 6),\n",
       " (0, 7),\n",
       " (0, 8),\n",
       " (0, 9),\n",
       " (1, 2),\n",
       " (1, 3),\n",
       " (1, 4),\n",
       " (1, 5),\n",
       " (1, 6),\n",
       " (1, 7),\n",
       " (1, 8),\n",
       " (1, 9),\n",
       " (2, 3),\n",
       " (2, 4),\n",
       " (2, 5),\n",
       " (2, 6),\n",
       " (2, 7),\n",
       " (2, 8),\n",
       " (2, 9),\n",
       " (3, 4),\n",
       " (3, 5),\n",
       " (3, 6),\n",
       " (3, 7),\n",
       " (3, 8),\n",
       " (3, 9),\n",
       " (4, 5),\n",
       " (4, 6),\n",
       " (4, 7),\n",
       " (4, 8),\n",
       " (4, 9),\n",
       " (5, 6),\n",
       " (5, 7),\n",
       " (5, 8),\n",
       " (5, 9),\n",
       " (6, 7),\n",
       " (6, 8),\n",
       " (6, 9),\n",
       " (7, 8),\n",
       " (7, 9),\n",
       " (8, 9)}"
      ]
     },
     "execution_count": 14,
     "metadata": {},
     "output_type": "execute_result"
    }
   ],
   "source": [
    "\"\"\"\n",
    "[a, b, c, d]\n",
    "(a, b)\n",
    "(a, c)\n",
    "(b, c)\n",
    "\n",
    "T & S : O(n^2) n = length of input list\n",
    "\n",
    "n + n-1 + n-2 + n-3 ... ~ O(n^2)\n",
    "\n",
    "\n",
    "O(2^n)\n",
    "\"\"\"\n",
    "\n",
    "pair_up(list(range(10)))"
   ]
  },
  {
   "cell_type": "code",
   "execution_count": 15,
   "metadata": {},
   "outputs": [],
   "source": [
    "def findMax(arr):\n",
    "    highest = None\n",
    "    for item in arr:\n",
    "        if highest is None or item > highest:\n",
    "            highest = item\n",
    "    return highest"
   ]
  },
  {
   "cell_type": "code",
   "execution_count": 16,
   "metadata": {},
   "outputs": [
    {
     "data": {
      "text/plain": [
       "100"
      ]
     },
     "execution_count": 16,
     "metadata": {},
     "output_type": "execute_result"
    }
   ],
   "source": [
    "findMax([3, -7, 100, 2, 4])"
   ]
  },
  {
   "cell_type": "code",
   "execution_count": 17,
   "metadata": {},
   "outputs": [
    {
     "name": "stdout",
     "output_type": "stream",
     "text": [
      "n in function b 100\n",
      "n in function a 9\n"
     ]
    }
   ],
   "source": [
    "def a():\n",
    "    n = 9\n",
    "    b()\n",
    "    print(\"n in function a\", n)\n",
    "\n",
    "def b():\n",
    "    n=100\n",
    "    print(\"n in function b\", n)\n",
    "\n",
    "a()"
   ]
  },
  {
   "cell_type": "code",
   "execution_count": 18,
   "metadata": {},
   "outputs": [],
   "source": [
    "_=\"\"\"\n",
    "\n",
    "\n",
    "\n",
    "6\n",
    "\"\"\""
   ]
  },
  {
   "cell_type": "code",
   "execution_count": 1,
   "metadata": {},
   "outputs": [],
   "source": [
    "def factorial(n):\n",
    "    if n == 0:\n",
    "        return 1\n",
    "    return n * factorial(n-1)\n"
   ]
  },
  {
   "cell_type": "code",
   "execution_count": 2,
   "metadata": {},
   "outputs": [],
   "source": [
    "def knapsack(weights, values, max_weight):\n",
    "    memo = {}\n",
    "    def knapsack_helper(weights, values, max_weight):\n",
    "        if len(weights) == 0:\n",
    "            return 0\n",
    "        key = (len(weights), max_weight)\n",
    "        if key in memo:\n",
    "            return memo[key]\n",
    "        curr_weight, rest_weights = weights[0], weights[1:]\n",
    "        curr_value, rest_values = values[0], values[1:]\n",
    "        \n",
    "        best_with = curr_value + knapsack_helper(rest_weights, rest_values, max_weight-curr_weight)\n",
    "        best_without = knapsack_helper(rest_weights, rest_values, max_weight)\n",
    "        best = best_without\n",
    "        \n",
    "        if curr_weight <= max_weight and best_with > best_without:\n",
    "            best = best_with\n",
    "            \n",
    "        memo[key] = best\n",
    "            \n",
    "        return memo[key]\n",
    "        \n",
    "    return knapsack_helper(weights, values, max_weight)"
   ]
  },
  {
   "cell_type": "code",
   "execution_count": 1,
   "metadata": {},
   "outputs": [
    {
     "ename": "NameError",
     "evalue": "name 'knapsack' is not defined",
     "output_type": "error",
     "traceback": [
      "\u001b[0;31m---------------------------------------------------------------------------\u001b[0m",
      "\u001b[0;31mNameError\u001b[0m                                 Traceback (most recent call last)",
      "\u001b[0;32m/var/folders/0d/2th0ykfd6xxd_sw81j7k5hrr0000gp/T/ipykernel_34554/2785924022.py\u001b[0m in \u001b[0;36m<module>\u001b[0;34m\u001b[0m\n\u001b[0;32m----> 1\u001b[0;31m \u001b[0mknapsack\u001b[0m\u001b[0;34m(\u001b[0m\u001b[0;34m[\u001b[0m\u001b[0;36m10\u001b[0m\u001b[0;34m,\u001b[0m \u001b[0;36m20\u001b[0m\u001b[0;34m,\u001b[0m \u001b[0;36m30\u001b[0m\u001b[0;34m]\u001b[0m\u001b[0;34m,\u001b[0m \u001b[0;34m[\u001b[0m\u001b[0;36m60\u001b[0m\u001b[0;34m,\u001b[0m \u001b[0;36m100\u001b[0m\u001b[0;34m,\u001b[0m \u001b[0;36m120\u001b[0m\u001b[0;34m]\u001b[0m\u001b[0;34m,\u001b[0m \u001b[0;36m50\u001b[0m\u001b[0;34m)\u001b[0m \u001b[0;34m==\u001b[0m \u001b[0;36m220\u001b[0m\u001b[0;34m\u001b[0m\u001b[0;34m\u001b[0m\u001b[0m\n\u001b[0m",
      "\u001b[0;31mNameError\u001b[0m: name 'knapsack' is not defined"
     ]
    }
   ],
   "source": [
    "knapsack([10, 20, 30], [60, 100, 120], 50) == 220"
   ]
  },
  {
   "cell_type": "code",
   "execution_count": 3,
   "metadata": {},
   "outputs": [],
   "source": [
    "def quicksort(arr):\n",
    "    if len(arr) <= 1:\n",
    "        return arr\n",
    "\n",
    "    # Choose middle for pivot\n",
    "    pivot_idx = len(arr) // 2\n",
    "    pivot_val = arr[pivot_idx]\n",
    "\n",
    "    left = []\n",
    "    right = []\n",
    "    for i, item in enumerate(arr):\n",
    "        if i == pivot_idx:\n",
    "            continue\n",
    "        if item < pivot_val:\n",
    "            left.append(item)\n",
    "        else:\n",
    "            right.append(item)\n",
    "\n",
    "    return quicksort(left) + [pivot_val] + quicksort(right)\n"
   ]
  },
  {
   "cell_type": "code",
   "execution_count": 4,
   "metadata": {},
   "outputs": [
    {
     "data": {
      "text/plain": [
       "[0, 0, 1, 1, 1, 2, 2, 2, 3, 3, 3, 5, 5, 7, 8, 9, 66]"
      ]
     },
     "execution_count": 4,
     "metadata": {},
     "output_type": "execute_result"
    }
   ],
   "source": [
    "quicksort([3, 2, 1, 5, 66, 2, 1, 3, 3, 5, 7, 8, 9, 2 ,1, 0, 0])"
   ]
  },
  {
   "cell_type": "code",
   "execution_count": 12,
   "metadata": {},
   "outputs": [],
   "source": [
    "from functools import lru_cache\n",
    "\n",
    "@lru_cache(maxsize=None)\n",
    "def lcs(a, b):\n",
    "    if not a or not b:\n",
    "        return 0\n",
    "\n",
    "    a_letter, a_rest = a[0], a[1:]\n",
    "    b_letter, b_rest = b[0], b[1:]\n",
    "\n",
    "    current_score = 1 if a_letter == b_letter else 0\n",
    "\n",
    "    best = max(\n",
    "        current_score + lcs(a_rest, b_rest),\n",
    "        lcs(a_rest, b),\n",
    "        lcs(a, b_rest)\n",
    "    )\n",
    "\n",
    "    return best"
   ]
  },
  {
   "cell_type": "code",
   "execution_count": 13,
   "metadata": {},
   "outputs": [
    {
     "data": {
      "text/plain": [
       "3"
      ]
     },
     "execution_count": 13,
     "metadata": {},
     "output_type": "execute_result"
    }
   ],
   "source": [
    "lcs(\"qwantz\", \"ntz\")"
   ]
  },
  {
   "cell_type": "code",
   "execution_count": 16,
   "metadata": {},
   "outputs": [],
   "source": [
    "count = 0\n",
    "def knapsack(weights, values, max_weight, memo=None):\n",
    "    global count\n",
    "    count += 1\n",
    "    if len(weights) == 0:\n",
    "        return 0\n",
    "        \n",
    "    if memo is None:\n",
    "        memo = {}\n",
    "        \n",
    "    key = (max_weight, len(weights))\n",
    "    \n",
    "    if key in memo:\n",
    "        return memo[key]\n",
    "        \n",
    "    curr_weight = weights[0]\n",
    "    curr_value = values[0]\n",
    "    \n",
    "    rest_weights = weights[1:]\n",
    "    rest_values = values[1:]\n",
    "    \n",
    "    best_taken = 0\n",
    "    if curr_weight <= max_weight:\n",
    "        best_remaining = knapsack(rest_weights, \n",
    "                                  rest_values,\n",
    "                                  max_weight - curr_weight,\n",
    "                                  memo=memo)\n",
    "        best_taken = best_remaining + curr_value\n",
    "        \n",
    "    \n",
    "    best_remaining = knapsack(rest_weights, \n",
    "                              rest_values,\n",
    "                              max_weight,\n",
    "                              memo=memo)\n",
    "    best_untaken = best_remaining\n",
    "    \n",
    "    best_overall = max(best_taken, best_untaken)\n",
    "    \n",
    "    memo[key] = best_overall\n",
    "    \n",
    "    return best_overall"
   ]
  },
  {
   "cell_type": "code",
   "execution_count": 19,
   "metadata": {},
   "outputs": [
    {
     "name": "stdout",
     "output_type": "stream",
     "text": [
      "26.8 ms ± 946 µs per loop (mean ± std. dev. of 7 runs, 10 loops each)\n"
     ]
    }
   ],
   "source": [
    "%%timeit\n",
    "count = 0\n",
    "knapsack(\n",
    "        [92, 39, 56, 81, 59, 38, 71, 91, 73, 34, 13, 27, 10, 49, 56, 90, 66, 91, 47, 52, 46, 43, 69, 53, 90, 99, 84, 41, 33, 89, 46, 78, 29, 16, 58, 44, 11, 87, 26, 13, 11, 63, 81, 51, 12, 90, 29, 100, 93, 43, 52, 65, 45, 46, 45, 98, 74, 58, 60, 100, 42, 66, 56, 37, 80, 68, 91, 63, 65, 73, 59, 10, 41, 30, 88, 79, 11, 94, 20, 89, 83, 70, 47, 75, 19, 15, 33, 34, 94, 65, 66, 44, 62, 95, 45, 17, 92, 93, 27, 43],\n",
    "        [96, 56, 143, 123, 96, 83, 82, 117, 82, 52, 66, 126, 122, 90, 128, 149, 149, 116, 55, 145, 111, 145, 63, 137, 85, 148, 70, 125, 57, 72, 82, 124, 107, 137, 127, 139, 125, 94, 111, 108, 117, 142, 121, 103, 140, 54, 82, 55, 104, 50, 98, 82, 50, 64, 105, 112, 70, 113, 91, 72, 108, 112, 132, 141, 85, 138, 94, 117, 137, 104, 54, 135, 105, 95, 135, 150, 143, 144, 143, 132, 52, 90, 100, 119, 59, 147, 125, 55, 101, 90, 72, 90, 58, 131, 123, 76, 109, 130, 138, 77],\n",
    "        200\n",
    "    )"
   ]
  },
  {
   "cell_type": "code",
   "execution_count": 18,
   "metadata": {},
   "outputs": [
    {
     "data": {
      "text/plain": [
       "27128"
      ]
     },
     "execution_count": 18,
     "metadata": {},
     "output_type": "execute_result"
    }
   ],
   "source": [
    "count"
   ]
  },
  {
   "cell_type": "code",
   "execution_count": 2,
   "metadata": {},
   "outputs": [
    {
     "data": {
      "text/plain": [
       "False"
      ]
     },
     "execution_count": 2,
     "metadata": {},
     "output_type": "execute_result"
    }
   ],
   "source": [
    "def is_letter_in_word(word, letter):\n",
    "    \"\"\"\n",
    "    input: word (string) and letter (single character)\n",
    "    output: boolean\n",
    "    \"\"\"\n",
    "    if letter not in word:\n",
    "        result = False\n",
    "    else: \n",
    "        result = True\n",
    "    return result\n",
    "result = True\n",
    "is_letter_in_word(\"hello\", \"x\")"
   ]
  },
  {
   "cell_type": "code",
   "execution_count": 3,
   "metadata": {},
   "outputs": [],
   "source": [
    "def is_letter_in_word(word, letter):\n",
    "    \"\"\"\n",
    "    input: word (string) and letter (single character)\n",
    "    output: boolean\n",
    "    \"\"\"\n",
    "    if letter not in word:\n",
    "        result = False\n",
    "    else: \n",
    "        result = True\n",
    "    return result\n",
    "result = True\n",
    "result = is_letter_in_word(\"hello\", \"x\")"
   ]
  },
  {
   "cell_type": "code",
   "execution_count": 4,
   "metadata": {},
   "outputs": [
    {
     "data": {
      "text/plain": [
       "{'name': 'Central Co-op', 'type': 'grocery'}"
      ]
     },
     "execution_count": 4,
     "metadata": {},
     "output_type": "execute_result"
    }
   ],
   "source": [
    "all_stores = [\n",
    "    {\"name\": \"Ada's Technical Books\", \"type\": \"book\"},\n",
    "    {\"name\": \"Elliott Bay\", \"type\": \"book\"},\n",
    "    {\"name\": \"Central Co-op\", \"type\": \"grocery\"} \n",
    "]\n",
    "book_stores = all_stores\n",
    "\n",
    "book_stores.pop()"
   ]
  },
  {
   "cell_type": "code",
   "execution_count": 5,
   "metadata": {},
   "outputs": [
    {
     "data": {
      "text/plain": [
       "[{'name': \"Ada's Technical Books\", 'type': 'book'},\n",
       " {'name': 'Elliott Bay', 'type': 'book'}]"
      ]
     },
     "execution_count": 5,
     "metadata": {},
     "output_type": "execute_result"
    }
   ],
   "source": [
    "book_stores"
   ]
  },
  {
   "cell_type": "code",
   "execution_count": 6,
   "metadata": {},
   "outputs": [
    {
     "data": {
      "text/plain": [
       "[{'name': \"Ada's Technical Books\", 'type': 'book'},\n",
       " {'name': 'Elliott Bay', 'type': 'book'}]"
      ]
     },
     "execution_count": 6,
     "metadata": {},
     "output_type": "execute_result"
    }
   ],
   "source": [
    "all_stores"
   ]
  },
  {
   "cell_type": "code",
   "execution_count": null,
   "metadata": {},
   "outputs": [],
   "source": []
  }
 ],
 "metadata": {
  "interpreter": {
   "hash": "aee8b7b246df8f9039afb4144a1f6fd8d2ca17a180786b69acc140d282b71a49"
  },
  "kernelspec": {
   "display_name": "Python 3.9.7 64-bit",
   "language": "python",
   "name": "python3"
  },
  "language_info": {
   "codemirror_mode": {
    "name": "ipython",
    "version": 3
   },
   "file_extension": ".py",
   "mimetype": "text/x-python",
   "name": "python",
   "nbconvert_exporter": "python",
   "pygments_lexer": "ipython3",
   "version": "3.9.9"
  },
  "orig_nbformat": 4
 },
 "nbformat": 4,
 "nbformat_minor": 2
}
