{
 "cells": [
  {
   "cell_type": "code",
   "execution_count": 11,
   "metadata": {},
   "outputs": [],
   "source": [
    "#[2, 25, \"PM\"]\n",
    "def to_min(time):\n",
    "    hours, mins, ampm = time\n",
    "\n",
    "    normalized = 0\n",
    "    if ampm == \"PM\":\n",
    "        normalized += 12 * 60\n",
    "    \n",
    "    if hours == 12:\n",
    "        hours = 0\n",
    "    \n",
    "    normalized += hours * 60 + mins\n",
    "    \n",
    "    return normalized\n",
    "\n",
    "def add_hour():\n",
    "    print(\"adding hour\")\n",
    "\n",
    "def add_15_min():\n",
    "    print(\"adding 15 min\")\n",
    "\n",
    "def add_1_min():\n",
    "    print(\"adding 1 min\")\n",
    "\n",
    "\n",
    "def adjust_time(current, target):\n",
    "    norm_current, norm_target = to_min(current), to_min(target)\n",
    "\n",
    "    if norm_target < norm_current:\n",
    "        raise ValueError(\"Missing flux capacitor - can't go back in time\")\n",
    "\n",
    "    time_funcs = (\n",
    "        (60, add_hour),\n",
    "        (15, add_15_min),\n",
    "        (1, add_1_min),\n",
    "    )\n",
    "\n",
    "    for delta, add_func in time_funcs:\n",
    "        while norm_current + delta <= norm_target:\n",
    "            norm_current += delta\n",
    "            add_func()"
   ]
  },
  {
   "cell_type": "code",
   "execution_count": 14,
   "metadata": {},
   "outputs": [
    {
     "name": "stdout",
     "output_type": "stream",
     "text": [
      "adding hour\n",
      "adding hour\n",
      "adding 15 min\n",
      "adding 15 min\n",
      "adding 15 min\n",
      "adding 1 min\n"
     ]
    }
   ],
   "source": [
    "start = [12, 15, \"AM\"]\n",
    "target = [3, 1, \"AM\"]\n",
    "\n",
    "adjust_time(start, target)"
   ]
  },
  {
   "cell_type": "code",
   "execution_count": null,
   "metadata": {},
   "outputs": [],
   "source": [
    "number = 5\n"
   ]
  }
 ],
 "metadata": {
  "interpreter": {
   "hash": "33f9929d5dd8dbd5b952cd6d1bafd9dce31285c3e95446986b68ed0cd94d3b89"
  },
  "kernelspec": {
   "display_name": "Python 3.9.7 64-bit",
   "language": "python",
   "name": "python3"
  },
  "language_info": {
   "codemirror_mode": {
    "name": "ipython",
    "version": 3
   },
   "file_extension": ".py",
   "mimetype": "text/x-python",
   "name": "python",
   "nbconvert_exporter": "python",
   "pygments_lexer": "ipython3",
   "version": "3.9.9"
  },
  "orig_nbformat": 4
 },
 "nbformat": 4,
 "nbformat_minor": 2
}
