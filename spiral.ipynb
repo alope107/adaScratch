{
 "cells": [
  {
   "cell_type": "code",
   "execution_count": 1,
   "metadata": {},
   "outputs": [],
   "source": [
    "\"\"\"\n",
    "Given a square array of arrays (where length of array equals length of each subarray), print out elements in sub arrays in a spiral starting from [0][0] and continuing clockwise\n",
    "\"\"\"\n",
    "matrix= [[\"a\", \"b\", \"c\", \"d\"],\n",
    "[\"e\", \"f\", \"g\", \"h\"],\n",
    "[\"i\", \"j\", \"k\", \"l\"],\n",
    "[\"m\", \"n\", \"o\", \"p\"],]\n",
    "\n",
    "def in_bounds(pos, min_r, min_c, max_r, max_c):\n",
    "    r, c = pos\n",
    "    return min_r < r < max_r and min_c < c < max_c\n",
    "\n",
    "def spiralize(mat):\n",
    "    output = []\n",
    "    r, c = 0, 0\n",
    "    min_r, min_c = -1, -1\n",
    "    max_r, max_c = len(mat), len(mat)\n",
    "    directions = [(0, 1), (1, 0), (0, -1), (-1, 0)]\n",
    "    d_idx = 0\n",
    "    elem_count = len(matrix) ** 2\n",
    "    while len(output) < elem_count:\n",
    "        print(r, c)\n",
    "        output.append(mat[r][c])\n",
    "        next_loc = (r + directions[d_idx][0], c + directions[d_idx][1])\n",
    "        if not in_bounds(next_loc, min_r, min_c, max_r, max_c):\n",
    "            if d_idx == 0:\n",
    "                min_r = r\n",
    "            elif d_idx == 1:\n",
    "                max_c = c\n",
    "            elif d_idx == 2:\n",
    "                max_r = r\n",
    "            else:\n",
    "                min_c = c\n",
    "            d_idx = (d_idx + 1) % 4\n",
    "            next_loc = (r + directions[d_idx][0], c + directions[d_idx][1])\n",
    "        r, c = next_loc\n",
    "\n",
    "    return output"
   ]
  },
  {
   "cell_type": "code",
   "execution_count": 2,
   "metadata": {},
   "outputs": [
    {
     "name": "stdout",
     "output_type": "stream",
     "text": [
      "0 0\n",
      "0 1\n",
      "0 2\n",
      "0 3\n",
      "1 3\n",
      "2 3\n",
      "3 3\n",
      "3 2\n",
      "3 1\n",
      "3 0\n",
      "2 0\n",
      "1 0\n",
      "1 1\n",
      "1 2\n",
      "2 2\n",
      "2 1\n",
      "['a', 'b', 'c', 'd', 'h', 'l', 'p', 'o', 'n', 'm', 'i', 'e', 'f', 'g', 'k', 'j']\n"
     ]
    }
   ],
   "source": [
    "print(spiralize(matrix))"
   ]
  },
  {
   "cell_type": "code",
   "execution_count": null,
   "metadata": {},
   "outputs": [],
   "source": [
    "def "
   ]
  }
 ],
 "metadata": {
  "interpreter": {
   "hash": "aee8b7b246df8f9039afb4144a1f6fd8d2ca17a180786b69acc140d282b71a49"
  },
  "kernelspec": {
   "display_name": "Python 3.9.9 64-bit",
   "language": "python",
   "name": "python3"
  },
  "language_info": {
   "codemirror_mode": {
    "name": "ipython",
    "version": 3
   },
   "file_extension": ".py",
   "mimetype": "text/x-python",
   "name": "python",
   "nbconvert_exporter": "python",
   "pygments_lexer": "ipython3",
   "version": "3.9.9"
  },
  "orig_nbformat": 4
 },
 "nbformat": 4,
 "nbformat_minor": 2
}
