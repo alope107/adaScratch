{
 "cells": [
  {
   "cell_type": "code",
   "execution_count": 1,
   "metadata": {},
   "outputs": [
    {
     "name": "stdout",
     "output_type": "stream",
     "text": [
      "All tests passed!\n",
      "Discuss time and space complexity if there's time remaining\n"
     ]
    },
    {
     "data": {
      "text/plain": [
       "\"\\n***NOTES TO INTERVIEWER***\\n\\n---------Answers to clarifying questions----------\\nQ: What should I do if the input is not a string? Or if the string is empty?\\nA: You do not need to worry about this case. You can assume the input will be a string with at least one letter in it.\\n\\nQ: What should I do with punctuation, numbers, etc.?\\nA: You can assume the input will include only letters and spaces.\\n\\nQ: What should I do if there's extra spaces?\\nA: You can assume there will be exactly one space in between words and no extra spaces at the beginning or end of the string.\\n\\n--------------------------------------------------\\n\\n\\n\\n---------Hints for struggling candidates----------\\n\\n - If your candidate struggles with an initial algorithm, encourage them to walk through an example and desrcibe how they would do it using only pen and paper\\n\\n - If they're having trouble determining how to handle multiple words, encourage them to first write code to solve the case where there's only a single word in the string\\n\\n - If your candidate is struggling to determine how to convert a letter to upper or lower case, encourage them to look up how to do that online\\n\\n- If your candidate is struggling with test case #3, remind them that the question states that every word starts with a lowercase letter\\n\\n -------------------------------------------------\\n\\n\""
      ]
     },
     "execution_count": 1,
     "metadata": {},
     "output_type": "execute_result"
    }
   ],
   "source": [
    "\"\"\"\n",
    "Create a function that takes a string consisting of one or more words separated by spaces. It should return a new string converted to \"sponge case,\" where each word starts with a lowercase letter, and then alternates between upper and lower case for each following letter in the word.\n",
    "\n",
    "Examples:\n",
    "\n",
    "sponge_case(\"spongebob\") # Should return \"sPoNgEbOb\"\n",
    "\n",
    "sponge_case(\"Who are YOU calling A Pinhead\") # Should return \"wHo aRe yOu cAlLiNg a pInHeAd\"\n",
    "\n",
    "assert sponge_case(\"WHAT is UP my dude\") == \"wHaT iS uP mY dUdE\"\n",
    "\n",
    "sponge_case(\"E\") # Should return \"e\"\n",
    "\n",
    "sponge_case(\"e\") # Should return \"e\"\n",
    "\"\"\"\n",
    "\n",
    "def sponge_case(sentence):\n",
    "  # turn the sentence into an array of individual words\n",
    "  words = sentence.split()\n",
    "\n",
    "  # create a new array of sponge-case words using our helper function\n",
    "  new_words = []\n",
    "  for word in words:\n",
    "    new_words.append(sponge_single_word(word))\n",
    "\n",
    "  # Join the new spongy words with spaces\n",
    "  return \" \".join(new_words)\n",
    "\n",
    "\n",
    "# Helper function that converts a single word to sponge-case \n",
    "def sponge_single_word(word):\n",
    "  new_word = \"\"\n",
    "  # Instructions say the word must start with a lowercase letter\n",
    "  # We will toggle this variable to alternate between lower and upper case\n",
    "  lower = True \n",
    "\n",
    "  for letter in word:\n",
    "    # if our toggle is set to lowercase, add a lowercase version of the letter\n",
    "    if lower:\n",
    "      new_word += letter.lower()\n",
    "    # if our toggle is set to lowercase, add a uppercase version of the letter\n",
    "    else:\n",
    "      new_word += letter.upper()\n",
    "    # flip our toggle\n",
    "    lower = not lower\n",
    "    \n",
    "  return new_word\n",
    "\n",
    "\n",
    "\n",
    "# Test cases\n",
    "assert sponge_case(\"spongebob\") == \"sPoNgEbOb\"\n",
    "assert sponge_case(\"Who are YOU calling A Pinhead\") == \"wHo aRe yOu cAlLiNg a pInHeAd\"\n",
    "assert sponge_case(\"WHAT is UP my dude\") == \"wHaT iS uP mY dUdE\"\n",
    "assert sponge_case(\"E\") == \"e\"\n",
    "assert sponge_case(\"e\") == \"e\"\n",
    "\n",
    "print(\"All tests passed!\")\n",
    "print(\"Discuss time and space complexity if there's time remaining\")\n",
    "\n",
    "\"\"\"\n",
    "***NOTES TO INTERVIEWER***\n",
    "\n",
    "---------Answers to clarifying questions----------\n",
    "Q: What should I do if the input is not a string? Or if the string is empty?\n",
    "A: You do not need to worry about this case. You can assume the input will be a string with at least one letter in it.\n",
    "\n",
    "Q: What should I do with punctuation, numbers, etc.?\n",
    "A: You can assume the input will include only letters and spaces.\n",
    "\n",
    "Q: What should I do if there's extra spaces?\n",
    "A: You can assume there will be exactly one space in between words and no extra spaces at the beginning or end of the string.\n",
    "\n",
    "--------------------------------------------------\n",
    "\n",
    "\n",
    "\n",
    "---------Hints for struggling candidates----------\n",
    "\n",
    " - If your candidate struggles with an initial algorithm, encourage them to walk through an example and desrcibe how they would do it using only pen and paper\n",
    "\n",
    " - If they're having trouble determining how to handle multiple words, encourage them to first write code to solve the case where there's only a single word in the string\n",
    "\n",
    " - If your candidate is struggling to determine how to convert a letter to upper or lower case, encourage them to look up how to do that online\n",
    "\n",
    "- If your candidate is struggling with test case #3, remind them that the question states that every word starts with a lowercase letter\n",
    "\n",
    " -------------------------------------------------\n",
    "\n",
    "\"\"\""
   ]
  },
  {
   "cell_type": "code",
   "execution_count": 4,
   "metadata": {},
   "outputs": [
    {
     "name": "stdout",
     "output_type": "stream",
     "text": [
      "2.6 µs ± 661 ns per loop (mean ± std. dev. of 7 runs, 100,000 loops each)\n"
     ]
    }
   ],
   "source": [
    "%%timeit\n",
    "sponge_case(\"a\"*10)"
   ]
  },
  {
   "cell_type": "code",
   "execution_count": 5,
   "metadata": {},
   "outputs": [
    {
     "name": "stdout",
     "output_type": "stream",
     "text": [
      "22.6 µs ± 3.86 µs per loop (mean ± std. dev. of 7 runs, 10,000 loops each)\n"
     ]
    }
   ],
   "source": [
    "%%timeit\n",
    "sponge_case(\"a\"*100)"
   ]
  },
  {
   "cell_type": "code",
   "execution_count": 7,
   "metadata": {},
   "outputs": [
    {
     "name": "stdout",
     "output_type": "stream",
     "text": [
      "208 µs ± 19.6 µs per loop (mean ± std. dev. of 7 runs, 1,000 loops each)\n"
     ]
    }
   ],
   "source": [
    "return {\n",
    "    \"goal\": {\n",
    "        \"id\": self.goal_id,\n",
    "        \"title\": self.title \n",
    "    }\n",
    "} "
   ]
  },
  {
   "cell_type": "code",
   "execution_count": null,
   "metadata": {},
   "outputs": [],
   "source": [
    "def to_dict(self):\n",
    "    return {\n",
    "        \"id\": self.goal_id,\n",
    "        \"title\": self.title\n",
    "    }"
   ]
  }
 ],
 "metadata": {
  "interpreter": {
   "hash": "48da93beaf41e3312cae9ad49489ea497fb5337631984aa89da89c811f595584"
  },
  "kernelspec": {
   "display_name": "Python 3.9.12 ('venv': venv)",
   "language": "python",
   "name": "python3"
  },
  "language_info": {
   "codemirror_mode": {
    "name": "ipython",
    "version": 3
   },
   "file_extension": ".py",
   "mimetype": "text/x-python",
   "name": "python",
   "nbconvert_exporter": "python",
   "pygments_lexer": "ipython3",
   "version": "3.9.12"
  },
  "orig_nbformat": 4
 },
 "nbformat": 4,
 "nbformat_minor": 2
}
